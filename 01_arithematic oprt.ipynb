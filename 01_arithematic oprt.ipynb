{
 "cells": [
  {
   "cell_type": "markdown",
   "id": "734ae432-d59c-49b6-90a1-882578246763",
   "metadata": {},
   "source": [
    "## Write a Python program to do arithmetical operations addition and division."
   ]
  },
  {
   "cell_type": "code",
   "execution_count": 1,
   "id": "ee8da965-324d-4e4f-b471-3f1b9b349e7b",
   "metadata": {},
   "outputs": [],
   "source": [
    "# Addition"
   ]
  },
  {
   "cell_type": "code",
   "execution_count": 5,
   "id": "a2297f32-6685-4d24-81d2-e1c6fe22adf1",
   "metadata": {},
   "outputs": [
    {
     "name": "stdin",
     "output_type": "stream",
     "text": [
      "Enter the first number for addtion:  56\n",
      "Enter the second number for addtion:  56\n"
     ]
    },
    {
     "name": "stdout",
     "output_type": "stream",
     "text": [
      "(addtion of 56.0 and 56.0 is 112.0)\n"
     ]
    }
   ],
   "source": [
    "num1 = float(input(\"Enter the first number for addtion: \"))\n",
    "num2 = float(input(\"Enter the second number for addtion: \"))\n",
    "sum_result = num1 + num2\n",
    "print(f\"(addtion of {num1} and {num2} is {num1 + num2})\")\n"
   ]
  },
  {
   "cell_type": "code",
   "execution_count": 6,
   "id": "9af241a1-2bdd-4080-a9d2-6aa32a008ee5",
   "metadata": {},
   "outputs": [],
   "source": [
    "# Division"
   ]
  },
  {
   "cell_type": "code",
   "execution_count": 8,
   "id": "1c4b524a-2dab-4a09-8f88-03716d4eae6f",
   "metadata": {},
   "outputs": [
    {
     "name": "stdin",
     "output_type": "stream",
     "text": [
      "Enter the dividend for division:  20\n",
      "Enter the divisor for division:  0\n"
     ]
    },
    {
     "name": "stdout",
     "output_type": "stream",
     "text": [
      "Error: Division by zero is not allowed.\n"
     ]
    }
   ],
   "source": [
    "num3 = float(input(\"Enter the dividend for division: \"))\n",
    "num4 = float(input(\"Enter the divisor for division: \"))\n",
    "if num4 == 0:\n",
    "    print(\"Error: Division by zero is not allowed.\")\n",
    "else:\n",
    "    div_result = num3/num4\n",
    "    print(f\"(Division: {num3} / {num4} = {div_result}\")"
   ]
  },
  {
   "cell_type": "code",
   "execution_count": null,
   "id": "67a8fe63-9891-4a2b-909f-c8517de51134",
   "metadata": {},
   "outputs": [],
   "source": []
  }
 ],
 "metadata": {
  "kernelspec": {
   "display_name": "Python [conda env:base] *",
   "language": "python",
   "name": "conda-base-py"
  },
  "language_info": {
   "codemirror_mode": {
    "name": "ipython",
    "version": 3
   },
   "file_extension": ".py",
   "mimetype": "text/x-python",
   "name": "python",
   "nbconvert_exporter": "python",
   "pygments_lexer": "ipython3",
   "version": "3.12.7"
  }
 },
 "nbformat": 4,
 "nbformat_minor": 5
}
